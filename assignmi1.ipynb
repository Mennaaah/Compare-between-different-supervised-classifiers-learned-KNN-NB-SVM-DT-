{
 "cells": [
  {
   "cell_type": "code",
   "execution_count": 5,
   "metadata": {},
   "outputs": [],
   "source": [
    "import time\n",
    "import matplotlib.pyplot as plt\n",
    "import numpy as np\n",
    "from matplotlib.colors import ListedColormap\n",
    "from sklearn import datasets\n",
    "from sklearn.model_selection import train_test_split\n"
   ]
  },
  {
   "cell_type": "code",
   "execution_count": 6,
   "metadata": {},
   "outputs": [
    {
     "name": "stdout",
     "output_type": "stream",
     "text": [
      "training set size: 133 samples \n",
      "test set size: 45 samples\n"
     ]
    }
   ],
   "source": [
    "dataset = datasets.load_wine()\n",
    "\n",
    "X = dataset.data[:, :2]\n",
    "y = dataset.target\n",
    "\n",
    "#split the data into train and test sets\n",
    "X_train, X_test, y_train, y_test = train_test_split(X, y, test_size = 0.25, shuffle = True, random_state = 0)\n",
    "print (f\"training set size: {X_train.shape[0]} samples \\ntest set size: {X_test.shape[0]} samples\")\n"
   ]
  },
  {
   "cell_type": "code",
   "execution_count": 8,
   "metadata": {},
   "outputs": [],
   "source": [
    "#i was trying to plot the data when i used only two features of the data set\n",
    "def plot_data(features, labels):\n",
    "    f, ax = plt.subplots(1, 1)\n",
    "    ax.scatter(features[labels == 0, 0], features[labels == 0, 1], color=\"#d00000\", label=\"class 0\")\n",
    "    ax.scatter(features[labels == 1, 0], features[labels == 1, 1], color=\"#0000d0\", label=\"class 1\")\n",
    "    ax.scatter(features[labels == 2, 0], features[labels == 2, 1], color=\"#00d000\", label=\"class 2\")\n",
    "    ax.set_xlabel(\"Alcohol\")\n",
    "    ax.set_ylabel(\"Malic acid\")\n",
    "    ax.legend()\n",
    "    f.set_size_inches(16, 6)\n",
    "    ax.set_title(\"wine data Type (training set)\")\n",
    "    plt.show()"
   ]
  },
  {
   "cell_type": "code",
   "execution_count": 7,
   "metadata": {},
   "outputs": [
    {
     "data": {
      "image/png": "[encoded data removed]",
      "text/plain": [
       "<Figure size 1152x432 with 1 Axes>"
      ]
     },
     "metadata": {
      "needs_background": "light"
     },
     "output_type": "display_data"
    }
   ],
   "source": [
    "#plot_data(X_train, y_train)"
   ]
  },
  {
   "cell_type": "code",
   "execution_count": 43,
   "metadata": {},
   "outputs": [
    {
     "name": "stdout",
     "output_type": "stream",
     "text": [
      "Neighborhood size (k) = 5, Training accuracy: 82.7%,Testing Accuracy: 84.44, Training time= 0.0012223999947309494\n"
     ]
    }
   ],
   "source": [
    "#applying knn with K=5\n",
    "from sklearn.neighbors import KNeighborsClassifier\n",
    "time_start=time.perf_counter()\n",
    "\n",
    "neighborhood_size = 5\n",
    "time_start=time.perf_counter()\n",
    "classifier = KNeighborsClassifier(n_neighbors = neighborhood_size, weights = \"uniform\", algorithm = \"brute\")\n",
    "classifier.fit(X_train, y_train)\n",
    "time_end=time.perf_counter()\n",
    "t_diff=time_end-time_start\n",
    "\n",
    "train_accuracy = classifier.score(X_train, y_train)\n",
    "test_accuracy = classifier.score(X_test, y_test)\n",
    "print (f\"Neighborhood size (k) = {neighborhood_size}, Training accuracy: {train_accuracy*100:.1f}%,Testing Accuracy: {test_accuracy*100:.2f}, Training time= {t_diff}\")\n"
   ]
  },
  {
   "cell_type": "code",
   "execution_count": 198,
   "metadata": {},
   "outputs": [
    {
     "name": "stdout",
     "output_type": "stream",
     "text": [
      "Neighborhood size (k) = 7, Training accuracy: 82.7%,Testing Accuracy: 88.89, Training time= 0.0015605999942636117\n"
     ]
    }
   ],
   "source": [
    "#applying knn with K=7\n",
    "from sklearn.neighbors import KNeighborsClassifier\n",
    "\n",
    "neighborhood_size = 7\n",
    "time_start=time.perf_counter()\n",
    "classifier = KNeighborsClassifier(n_neighbors = neighborhood_size, weights = \"uniform\", algorithm = \"brute\")\n",
    "classifier.fit(X_train, y_train)\n",
    "time_end=time.perf_counter()\n",
    "t_diff=time_end-time_start\n",
    "train_accuracy = classifier.score(X_train, y_train)\n",
    "\n",
    "test_accuracy = classifier.score(X_test, y_test)\n",
    "print (f\"Neighborhood size (k) = {neighborhood_size}, Training accuracy: {train_accuracy*100:.1f}%,Testing Accuracy: {test_accuracy*100:.2f}, Training time= {t_diff}\")\n",
    "#incrasing the value of K increased the acurracy of testing, however, it did not affect the training accuracy"
   ]
  },
  {
   "cell_type": "code",
   "execution_count": 44,
   "metadata": {},
   "outputs": [
    {
     "name": "stdout",
     "output_type": "stream",
     "text": [
      "Neighborhood size (k) = 11, Training accuracy: 81.2%,Testing Accuracy: 86.67, Training time= 0.0008191999950213358\n"
     ]
    }
   ],
   "source": [
    "#applying knn with K=11\n",
    "from sklearn.neighbors import KNeighborsClassifier\n",
    "\n",
    "neighborhood_size = 11\n",
    "time_start=time.perf_counter()\n",
    "classifier = KNeighborsClassifier(n_neighbors = neighborhood_size, weights = \"uniform\", algorithm = \"brute\")\n",
    "classifier.fit(X_train, y_train)\n",
    "time_end=time.perf_counter()\n",
    "t_diff=time_end-time_start\n",
    "\n",
    "train_accuracy = classifier.score(X_train, y_train)\n",
    "test_accuracy = classifier.score(X_test, y_test)\n",
    "print (f\"Neighborhood size (k) = {neighborhood_size}, Training accuracy: {train_accuracy*100:.1f}%,Testing Accuracy: {test_accuracy*100:.2f}, Training time= {t_diff}\")\n",
    "# increasing the k to 11 decreased both the training accuracy and testing accuracy"
   ]
  },
  {
   "cell_type": "code",
   "execution_count": 173,
   "metadata": {},
   "outputs": [
    {
     "name": "stdout",
     "output_type": "stream",
     "text": [
      "Neighborhood size (k) = 3, Training accuracy: 85.0%,Testing Accuracy: 82.22, Training time= 0.0006759999996575061\n"
     ]
    }
   ],
   "source": [
    "#applying knn with K=3\n",
    "from sklearn.neighbors import KNeighborsClassifier\n",
    "\n",
    "neighborhood_size = 3\n",
    "time_start=time.perf_counter()\n",
    "classifier = KNeighborsClassifier(n_neighbors = neighborhood_size, weights = \"uniform\", algorithm = \"brute\")\n",
    "classifier.fit(X_train, y_train)\n",
    "time_end=time.perf_counter()\n",
    "t_diff=time_end-time_start\n",
    "train_accuracy = classifier.score(X_train, y_train)\n",
    "test_accuracy = classifier.score(X_test, y_test)\n",
    "print (f\"Neighborhood size (k) = {neighborhood_size}, Training accuracy: {train_accuracy*100:.1f}%,Testing Accuracy: {test_accuracy*100:.2f}, Training time= {t_diff}\")\n",
    "#decrasing the K to 3 increased the traning accuracy, but decreased the testing accuracy (kind of overfitting)"
   ]
  },
  {
   "cell_type": "code",
   "execution_count": 210,
   "metadata": {},
   "outputs": [
    {
     "name": "stdout",
     "output_type": "stream",
     "text": [
      "Training Accuracy: 81.20, Testing Accuracy: 86.67,Training time= 0.0023286000068765134\n"
     ]
    }
   ],
   "source": [
    "#implementing NaiveBaise\n",
    "from sklearn.naive_bayes import GaussianNB\n",
    "\n",
    "## write your code here\n",
    "time_start=time.perf_counter()\n",
    "\n",
    "classifier = GaussianNB()\n",
    "classifier.fit(X_train, y_train)\n",
    "time_end=time.perf_counter()\n",
    "t_diff=time_end-time_start\n",
    "\n",
    "train_accuracy = classifier.score(X_train, y_train)\n",
    "test_accuracy = classifier.score(X_test, y_test)\n",
    "print(f\"Training Accuracy: {train_accuracy*100:.2f}, Testing Accuracy: {test_accuracy*100:.2f},Training time= {t_diff}\")\n",
    "#using the naive base reached the best accuracy I tried with knn classifier when I used K= 11 in almost same average training time"
   ]
  },
  {
   "cell_type": "code",
   "execution_count": 90,
   "metadata": {},
   "outputs": [
    {
     "name": "stdout",
     "output_type": "stream",
     "text": [
      "Training Accuracy: 81.95, Testing Accuracy: 91.11,Training time= 0.0019762000010814518\n"
     ]
    }
   ],
   "source": [
    "#implementing SVM\n",
    "from sklearn.svm import SVC\n",
    "from sklearn.svm import LinearSVC\n",
    "time_start=time.perf_counter()\n",
    "\n",
    "svm = SVC(kernel=\"rbf\", gamma=1, C=1)#rbf:Radial basis function kernel\n",
    "\n",
    "svm.fit(X,y)\n",
    "time_end=time.perf_counter()\n",
    "\n",
    "t_diff=time_end-time_start\n",
    "#plot_classifier(X, y, svm)\n",
    "train_accuracy = svm.score(X_train, y_train)\n",
    "test_accuracy = svm.score(X_test, y_test)\n",
    "print(f\"Training Accuracy: {train_accuracy*100:.2f}, Testing Accuracy: {test_accuracy*100:.2f},Training time= {t_diff}\")\n",
    "#the svm is so accurate in testing accuracy, when using kernel=rbf and gamma=1 c=1, however, it did not increase the training accuracy so much with average time higher than the previous average time of the previous classifiers(knn and naive)"
   ]
  },
  {
   "cell_type": "code",
   "execution_count": 97,
   "metadata": {},
   "outputs": [
    {
     "name": "stdout",
     "output_type": "stream",
     "text": [
      "Training Accuracy: 78.20, Testing Accuracy: 77.78,Training time= 0.0012889999925391749\n"
     ]
    }
   ],
   "source": [
    "#implementing SVM\n",
    "from sklearn.svm import SVC\n",
    "from sklearn.svm import LinearSVC\n",
    "time_start=time.perf_counter()\n",
    "\n",
    "svm = SVC(kernel=\"linear\", gamma=1, C=1)#rbf:Radial basis function kernel\n",
    "svm.fit(X,y)\n",
    "time_end=time.perf_counter()\n",
    "\n",
    "t_diff=time_end-time_start\n",
    "#plot_classifier(X, y, svm)\n",
    "train_accuracy = svm.score(X_train, y_train)\n",
    "test_accuracy = svm.score(X_test, y_test)\n",
    "print(f\"Training Accuracy: {train_accuracy*100:.2f}, Testing Accuracy: {test_accuracy*100:.2f},Training time= {t_diff}\")\n",
    "#using the same c, and gamma but changing the kernel to linear decreased both testing and training accuracy tp 77.78 and 78.20 in order."
   ]
  },
  {
   "cell_type": "code",
   "execution_count": 101,
   "metadata": {},
   "outputs": [
    {
     "name": "stdout",
     "output_type": "stream",
     "text": [
      "Training Accuracy: 78.20, Testing Accuracy: 77.78,Training time= 0.0011814000026788563\n"
     ]
    }
   ],
   "source": [
    "#implementing SVM after changing gamma\n",
    "from sklearn.svm import SVC\n",
    "from sklearn.svm import LinearSVC\n",
    "time_start=time.perf_counter()\n",
    "\n",
    "svm = SVC(kernel=\"linear\", gamma=.5, C=1)#rbf:Radial basis function kernel\n",
    "svm.fit(X,y)\n",
    "time_end=time.perf_counter()\n",
    "\n",
    "t_diff=time_end-time_start\n",
    "#plot_classifier(X, y, svm)\n",
    "train_accuracy = svm.score(X_train, y_train)\n",
    "test_accuracy = svm.score(X_test, y_test)\n",
    "print(f\"Training Accuracy: {train_accuracy*100:.2f}, Testing Accuracy: {test_accuracy*100:.2f},Training time= {t_diff}\")\n",
    "#changing gamma to .5 while having kernel lnear and c=1 maintained the same accuracy"
   ]
  },
  {
   "cell_type": "code",
   "execution_count": 107,
   "metadata": {},
   "outputs": [
    {
     "name": "stdout",
     "output_type": "stream",
     "text": [
      "Training Accuracy: 81.20, Testing Accuracy: 91.11,Training time= 0.0023132999922381714\n"
     ]
    }
   ],
   "source": [
    "#implementing SVM after changing keernel\n",
    "from sklearn.svm import SVC\n",
    "from sklearn.svm import LinearSVC\n",
    "time_start=time.perf_counter()\n",
    "\n",
    "svm = SVC(kernel=\"rbf\", gamma=.5, C=1)#rbf:Radial basis function kernel\n",
    "svm.fit(X,y)\n",
    "time_end=time.perf_counter()\n",
    "\n",
    "t_diff=time_end-time_start\n",
    "#plot_classifier(X, y, svm)\n",
    "train_accuracy = svm.score(X_train, y_train)\n",
    "test_accuracy = svm.score(X_test, y_test)\n",
    "print(f\"Training Accuracy: {train_accuracy*100:.2f}, Testing Accuracy: {test_accuracy*100:.2f},Training time= {t_diff}\")\n",
    "#changing the kernel to rbf for the same gamma and c increased both the training and testing accuracy"
   ]
  },
  {
   "cell_type": "code",
   "execution_count": 109,
   "metadata": {},
   "outputs": [
    {
     "name": "stdout",
     "output_type": "stream",
     "text": [
      "Training Accuracy: 78.95, Testing Accuracy: 82.22,Training time= 0.0011971999920206144\n"
     ]
    }
   ],
   "source": [
    "#implementing SVM after changing C\n",
    "from sklearn.svm import SVC\n",
    "from sklearn.svm import LinearSVC\n",
    "time_start=time.perf_counter()\n",
    "\n",
    "svm = SVC(kernel=\"linear\", gamma=.5, C=.1)#rbf:Radial basis function kernel\n",
    "svm.fit(X,y)\n",
    "time_end=time.perf_counter()\n",
    "t_diff=time_end-time_start\n",
    "\n",
    "#plot_classifier(X, y, svm)\n",
    "train_accuracy = svm.score(X_train, y_train)\n",
    "test_accuracy = svm.score(X_test, y_test)\n",
    "print(f\"Training Accuracy: {train_accuracy*100:.2f}, Testing Accuracy: {test_accuracy*100:.2f},Training time= {t_diff}\")\n",
    "#changing the C, gamma to .1 and .5 in linear kernel had training accuracy and testing accuracy of 78.95 and 82.22."
   ]
  },
  {
   "cell_type": "code",
   "execution_count": null,
   "metadata": {},
   "outputs": [],
   "source": []
  },
  {
   "cell_type": "code",
   "execution_count": 131,
   "metadata": {},
   "outputs": [
    {
     "name": "stdout",
     "output_type": "stream",
     "text": [
      "Training Accuracy: 78.20, Testing Accuracy: 88.89,Training time= 0.0025085999950533733\n"
     ]
    }
   ],
   "source": [
    "#implementing SVM after changing the kernel\n",
    "from sklearn.svm import SVC\n",
    "from sklearn.svm import LinearSVC\n",
    "time_start=time.perf_counter()\n",
    "\n",
    "svm = SVC(kernel=\"rbf\", gamma=.5, C=.1)#rbf:Radial basis function kernel\n",
    "svm.fit(X,y)\n",
    "time_end=time.perf_counter()\n",
    "t_diff=time_end-time_start\n",
    "#plot_classifier(X, y, svm)\n",
    "train_accuracy = svm.score(X_train, y_train)\n",
    "test_accuracy = svm.score(X_test, y_test)\n",
    "print(f\"Training Accuracy: {train_accuracy*100:.2f}, Testing Accuracy: {test_accuracy*100:.2f},Training time= {t_diff}\")\n",
    "#changing the kernel to rbf while having the same pervious gamma and c decreased the training accuracy little, but increased the testing set "
   ]
  },
  {
   "cell_type": "code",
   "execution_count": 124,
   "metadata": {},
   "outputs": [
    {
     "name": "stdout",
     "output_type": "stream",
     "text": [
      "Training Accuracy: 100.00, Testing Accuracy: 100.00,Training time= 0.0030240000050980598\n"
     ]
    }
   ],
   "source": [
    "#implementing SVM after changing C\n",
    "from sklearn.svm import SVC\n",
    "from sklearn.svm import LinearSVC\n",
    "time_start=time.perf_counter()\n",
    "\n",
    "svm = SVC(kernel=\"rbf\", gamma=500, C=250)#rbf:Radial basis function kernel\n",
    "svm.fit(X,y)\n",
    "time_end=time.perf_counter()\n",
    "t_diff=time_end-time_start\n",
    "#plot_classifier(X, y, svm)\n",
    "train_accuracy = svm.score(X_train, y_train)\n",
    "test_accuracy = svm.score(X_test, y_test)\n",
    "print(f\"Training Accuracy: {train_accuracy*100:.2f}, Testing Accuracy: {test_accuracy*100:.2f},Training time= {t_diff}\")\n",
    "\n"
   ]
  },
  {
   "cell_type": "code",
   "execution_count": 117,
   "metadata": {},
   "outputs": [
    {
     "name": "stdout",
     "output_type": "stream",
     "text": [
      "Training Accuracy: 100.00, Testing Accuracy: 80.00,Training time= 0.004777399997692555\n"
     ]
    }
   ],
   "source": [
    "#applying dst\n",
    "from sklearn.tree import DecisionTreeClassifier\n",
    "\n",
    "time_start=time.perf_counter()\n",
    "classifier = DecisionTreeClassifier(criterion=\"entropy\")\n",
    "classifier.fit(X_train, y_train)\n",
    "time_end=time.perf_counter()\n",
    "\n",
    "train_accuracy = classifier.score(X_train, y_train)\n",
    "test_accuracy = classifier.score(X_test, y_test)\n",
    "print(f\"Training Accuracy: {train_accuracy*100:.2f}, Testing Accuracy: {test_accuracy*100:.2f},Training time= {t_diff}\")\n",
    "#reached training accuracy of 100%, however testing accuracy is 80% which means that it's overfitting. Moreover, the time is relatively long, so dst is the worst to be used in this case"
   ]
  },
  {
   "cell_type": "code",
   "execution_count": null,
   "metadata": {},
   "outputs": [],
   "source": [
    "#there was no need to do high computations power as  in svc knn and naive bayes already reached high testing accuracy of  88.89% and \n",
    "#86.67% in order which is very high in wine classifications"
   ]
  },
  {
   "cell_type": "code",
   "execution_count": 132,
   "metadata": {},
   "outputs": [],
   "source": [
    "#applying the previous steps but in all the features instead of only two features\n",
    "X_all = dataset.data[:, :]\n",
    "y_all = dataset.target\n",
    "\n",
    "#split the data into train and test sets\n",
    "X_train_all, X_test_all, y_train_all, y_test_all = train_test_split(X_all, y_all, test_size = 0.25, shuffle = True, random_state = 0)"
   ]
  },
  {
   "cell_type": "code",
   "execution_count": 155,
   "metadata": {},
   "outputs": [
    {
     "name": "stdout",
     "output_type": "stream",
     "text": [
      "Neighborhood size (k) = 5, Training accuracy: 78.9%,Testing Accuracy: 73.33, Training time= 0.000789400000940077\n"
     ]
    }
   ],
   "source": [
    "#applying knn with K=5\n",
    "from sklearn.neighbors import KNeighborsClassifier\n",
    "\n",
    "neighborhood_size = 5\n",
    "time_start=time.perf_counter()\n",
    "\n",
    "classifier = KNeighborsClassifier(n_neighbors = neighborhood_size, weights = \"uniform\", algorithm = \"brute\")\n",
    "classifier.fit(X_train_all, y_train_all)\n",
    "time_end=time.perf_counter()\n",
    "\n",
    "train_accuracy = classifier.score(X_train_all, y_train_all)\n",
    "test_accuracy = classifier.score(X_test_all, y_test_all)\n",
    "print (f\"Neighborhood size (k) = {neighborhood_size}, Training accuracy: {train_accuracy*100:.1f}%,Testing Accuracy: {test_accuracy*100:.2f}, Training time= {t_diff}\")\n"
   ]
  },
  {
   "cell_type": "code",
   "execution_count": 152,
   "metadata": {},
   "outputs": [
    {
     "name": "stdout",
     "output_type": "stream",
     "text": [
      "Neighborhood size (k) = 7, Training accuracy: 78.2%,Testing Accuracy: 77.78, Training time= 0.000789400000940077\n"
     ]
    }
   ],
   "source": [
    "from sklearn.neighbors import KNeighborsClassifier\n",
    "\n",
    "neighborhood_size = 7\n",
    "time_start=time.perf_counter()\n",
    "classifier = KNeighborsClassifier(n_neighbors = neighborhood_size, weights = \"uniform\", algorithm = \"brute\")\n",
    "classifier.fit(X_train_all, y_train_all)\n",
    "time_end=time.perf_counter()\n",
    "t_diff=time_end-time_start\n",
    "train_accuracy = classifier.score(X_train_all, y_train_all)\n",
    "\n",
    "test_accuracy = classifier.score(X_test_all, y_test_all)\n",
    "print (f\"Neighborhood size (k) = {neighborhood_size}, Training accuracy: {train_accuracy*100:.1f}%,Testing Accuracy: {test_accuracy*100:.2f}, Training time= {t_diff}\")\n",
    "#increasing k to 7 decreased the training accuracy. however, it increased the testing accuracy"
   ]
  },
  {
   "cell_type": "code",
   "execution_count": 159,
   "metadata": {},
   "outputs": [
    {
     "name": "stdout",
     "output_type": "stream",
     "text": [
      "Neighborhood size (k) = 11, Training accuracy: 74.4%,Testing Accuracy: 68.89, Training time= 0.00036959999124519527\n"
     ]
    }
   ],
   "source": [
    "#applying knn with K=11\n",
    "from sklearn.neighbors import KNeighborsClassifier\n",
    "\n",
    "neighborhood_size = 11\n",
    "time_start=time.perf_counter()\n",
    "classifier = KNeighborsClassifier(n_neighbors = neighborhood_size, weights = \"uniform\", algorithm = \"brute\")\n",
    "classifier.fit(X_train_all, y_train_all)\n",
    "time_end=time.perf_counter()\n",
    "t_diff=time_end-time_start\n",
    "\n",
    "train_accuracy = classifier.score(X_train_all, y_train_all)\n",
    "test_accuracy = classifier.score(X_test_all, y_test_all)\n",
    "print (f\"Neighborhood size (k) = {neighborhood_size}, Training accuracy: {train_accuracy*100:.1f}%,Testing Accuracy: {test_accuracy*100:.2f}, Training time= {t_diff}\")\n",
    "# increasing the k to 11 decreased both the training accuracy and testing accuracy"
   ]
  },
  {
   "cell_type": "code",
   "execution_count": 160,
   "metadata": {},
   "outputs": [
    {
     "name": "stdout",
     "output_type": "stream",
     "text": [
      "Neighborhood size (k) = 3, Training accuracy: 88.7%,Testing Accuracy: 73.33, Training time= 0.0014016999921295792\n"
     ]
    }
   ],
   "source": [
    "#applying knn with K=3\n",
    "from sklearn.neighbors import KNeighborsClassifier\n",
    "\n",
    "neighborhood_size = 3\n",
    "time_start=time.perf_counter()\n",
    "classifier = KNeighborsClassifier(n_neighbors = neighborhood_size, weights = \"uniform\", algorithm = \"brute\")\n",
    "classifier.fit(X_train_all, y_train_all)\n",
    "time_end=time.perf_counter()\n",
    "t_diff=time_end-time_start\n",
    "train_accuracy = classifier.score(X_train_all, y_train_all)\n",
    "test_accuracy = classifier.score(X_test_all, y_test_all)\n",
    "print (f\"Neighborhood size (k) = {neighborhood_size}, Training accuracy: {train_accuracy*100:.1f}%,Testing Accuracy: {test_accuracy*100:.2f}, Training time= {t_diff}\")\n",
    "#decreasing k into 3 increased the training accuracy, but decreased the testing accuracy"
   ]
  },
  {
   "cell_type": "code",
   "execution_count": 211,
   "metadata": {},
   "outputs": [
    {
     "name": "stdout",
     "output_type": "stream",
     "text": [
      "Training Accuracy: 98.50, Testing Accuracy: 93.33,Training time= 0.8237845000112429\n"
     ]
    }
   ],
   "source": [
    "#implementing NaiveBaise\n",
    "from sklearn.naive_bayes import GaussianNB\n",
    "\n",
    "\n",
    "time_start=time.perf_counter()\n",
    "\n",
    "classifier = GaussianNB()\n",
    "classifier.fit(X_train_all, y_train_all)\n",
    "time_end=time.perf_counter()\n",
    "t_diff=time_end-time_start\n",
    "\n",
    "train_accuracy = classifier.score(X_train_all, y_train_all)\n",
    "test_accuracy = classifier.score(X_test_all, y_test_all)\n",
    "print(f\"Training Accuracy: {train_accuracy*100:.2f}, Testing Accuracy: {test_accuracy*100:.2f},Training time= {t_diff}\")\n",
    "#naivebaise is better when the dimensions is so high"
   ]
  },
  {
   "cell_type": "code",
   "execution_count": 162,
   "metadata": {},
   "outputs": [
    {
     "name": "stdout",
     "output_type": "stream",
     "text": [
      "Training Accuracy: 100.00, Testing Accuracy: 100.00,Training time= 0.00547750000259839\n"
     ]
    }
   ],
   "source": [
    "#implementing SVM\n",
    "from sklearn.svm import SVC\n",
    "from sklearn.svm import LinearSVC\n",
    "time_start=time.perf_counter()\n",
    "\n",
    "svm = SVC(kernel=\"rbf\", gamma=1, C=1)#rbf:Radial basis function kernel\n",
    "\n",
    "svm.fit(X_all,y_all)\n",
    "time_end=time.perf_counter()\n",
    "\n",
    "t_diff=time_end-time_start\n",
    "#plot_classifier(X, y, svm)\n",
    "train_accuracy = svm.score(X_train_all, y_train_all)\n",
    "test_accuracy = svm.score(X_test_all, y_test_all)\n",
    "print(f\"Training Accuracy: {train_accuracy*100:.2f}, Testing Accuracy: {test_accuracy*100:.2f},Training time= {t_diff}\")\n"
   ]
  },
  {
   "cell_type": "code",
   "execution_count": 163,
   "metadata": {},
   "outputs": [
    {
     "name": "stdout",
     "output_type": "stream",
     "text": [
      "Training Accuracy: 100.00, Testing Accuracy: 97.78,Training time= 0.05700500000966713\n"
     ]
    }
   ],
   "source": [
    "from sklearn.svm import SVC\n",
    "from sklearn.svm import LinearSVC\n",
    "time_start=time.perf_counter()\n",
    "\n",
    "svm = SVC(kernel=\"linear\", gamma=1, C=1)#rbf:Radial basis function kernel\n",
    "svm.fit(X_all,y_all)\n",
    "time_end=time.perf_counter()\n",
    "\n",
    "t_diff=time_end-time_start\n",
    "#plot_classifier(X, y, svm)\n",
    "train_accuracy = svm.score(X_train_all, y_train_all)\n",
    "test_accuracy = svm.score(X_test_all, y_test_all)\n",
    "print(f\"Training Accuracy: {train_accuracy*100:.2f}, Testing Accuracy: {test_accuracy*100:.2f},Training time= {t_diff}\")\n",
    "#this is overfitting as the training accuracy reached 100%, but the testing accuracy decreased from rbf kernel"
   ]
  },
  {
   "cell_type": "code",
   "execution_count": 164,
   "metadata": {},
   "outputs": [
    {
     "name": "stdout",
     "output_type": "stream",
     "text": [
      "Training Accuracy: 100.00, Testing Accuracy: 97.78,Training time= 0.05865119998634327\n"
     ]
    }
   ],
   "source": [
    "from sklearn.svm import SVC\n",
    "from sklearn.svm import LinearSVC\n",
    "time_start=time.perf_counter()\n",
    "\n",
    "svm = SVC(kernel=\"linear\", gamma=.5, C=1)#rbf:Radial basis function kernel\n",
    "svm.fit(X_all,y_all)\n",
    "time_end=time.perf_counter()\n",
    "\n",
    "t_diff=time_end-time_start\n",
    "#plot_classifier(X, y, svm)\n",
    "train_accuracy = svm.score(X_train_all, y_train_all)\n",
    "test_accuracy = svm.score(X_test_all, y_test_all)\n",
    "print(f\"Training Accuracy: {train_accuracy*100:.2f}, Testing Accuracy: {test_accuracy*100:.2f},Training time= {t_diff}\")\n",
    "#changing gamma to .5 did not affect neither the training accuracy nor the testing accuracy"
   ]
  },
  {
   "cell_type": "code",
   "execution_count": 169,
   "metadata": {},
   "outputs": [
    {
     "name": "stdout",
     "output_type": "stream",
     "text": [
      "Training Accuracy: 100.00, Testing Accuracy: 100.00,Training time= 0.00429959999746643\n"
     ]
    }
   ],
   "source": [
    "from sklearn.svm import SVC\n",
    "from sklearn.svm import LinearSVC\n",
    "time_start=time.perf_counter()\n",
    "\n",
    "svm = SVC(kernel=\"rbf\", gamma=.5, C=1)#rbf:Radial basis function kernel\n",
    "svm.fit(X_all,y_all)\n",
    "time_end=time.perf_counter()\n",
    "\n",
    "t_diff=time_end-time_start\n",
    "#plot_classifier(X, y, svm)\n",
    "train_accuracy = svm.score(X_train_all, y_train_all)\n",
    "test_accuracy = svm.score(X_test_all, y_test)\n",
    "print(f\"Training Accuracy: {train_accuracy*100:.2f}, Testing Accuracy: {test_accuracy*100:.2f},Training time= {t_diff}\")\n",
    "#changing the prvious case of kernel to be rbf reached 100% training and accuracy test\n"
   ]
  },
  {
   "cell_type": "code",
   "execution_count": 170,
   "metadata": {},
   "outputs": [
    {
     "name": "stdout",
     "output_type": "stream",
     "text": [
      "Training Accuracy: 97.74, Testing Accuracy: 97.78,Training time= 0.04694949999975506\n"
     ]
    }
   ],
   "source": [
    "from sklearn.svm import SVC\n",
    "from sklearn.svm import LinearSVC\n",
    "time_start=time.perf_counter()\n",
    "\n",
    "svm = SVC(kernel=\"linear\", gamma=.5, C=.1)#rbf:Radial basis function kernel\n",
    "svm.fit(X_all,y_all)\n",
    "time_end=time.perf_counter()\n",
    "t_diff=time_end-time_start\n",
    "\n",
    "#plot_classifier(X, y, svm)\n",
    "train_accuracy = svm.score(X_train_all, y_train_all)\n",
    "test_accuracy = svm.score(X_test_all, y_test_all)\n",
    "print(f\"Training Accuracy: {train_accuracy*100:.2f}, Testing Accuracy: {test_accuracy*100:.2f},Training time= {t_diff}\")\n",
    "#changing c to .1 while had training accuracy of 97.74 and testing accuracy of 97.78"
   ]
  },
  {
   "cell_type": "code",
   "execution_count": 184,
   "metadata": {},
   "outputs": [
    {
     "name": "stdout",
     "output_type": "stream",
     "text": [
      "Training Accuracy: 37.59, Testing Accuracy: 46.67,Training time= 0.0044793999986723065\n"
     ]
    }
   ],
   "source": [
    "from sklearn.svm import SVC\n",
    "from sklearn.svm import LinearSVC\n",
    "time_start=time.perf_counter()\n",
    "\n",
    "svm = SVC(kernel=\"rbf\", gamma=.5, C=.1)#rbf:Radial basis function kernel\n",
    "svm.fit(X_all,y_all)\n",
    "time_end=time.perf_counter()\n",
    "t_diff=time_end-time_start\n",
    "#plot_classifier(X, y, svm)\n",
    "train_accuracy = svm.score(X_train_all, y_train_all)\n",
    "test_accuracy = svm.score(X_test_all, y_test_all)\n",
    "print(f\"Training Accuracy: {train_accuracy*100:.2f}, Testing Accuracy: {test_accuracy*100:.2f},Training time= {t_diff}\")\n",
    "#changing both c and gamma when kernel is rbf was very low in accuracy having training accuracy of 37.59 and testing of 46.67"
   ]
  },
  {
   "cell_type": "code",
   "execution_count": 178,
   "metadata": {},
   "outputs": [
    {
     "name": "stdout",
     "output_type": "stream",
     "text": [
      "Training Accuracy: 100.00, Testing Accuracy: 100.00,Training time= 0.006502699994598515\n"
     ]
    }
   ],
   "source": [
    "from sklearn.svm import SVC\n",
    "from sklearn.svm import LinearSVC\n",
    "time_start=time.perf_counter()\n",
    "\n",
    "svm = SVC(kernel=\"rbf\", gamma=500, C=250)#rbf:Radial basis function kernel\n",
    "svm.fit(X_all,y_all)\n",
    "time_end=time.perf_counter()\n",
    "t_diff=time_end-time_start\n",
    "#plot_classifier(X, y, svm)\n",
    "train_accuracy = svm.score(X_train_all, y_train_all)\n",
    "test_accuracy = svm.score(X_test_all, y_test_all)\n",
    "print(f\"Training Accuracy: {train_accuracy*100:.2f}, Testing Accuracy: {test_accuracy*100:.2f},Training time= {t_diff}\")\n",
    "#increasing c and gamma while having rbf kernel reached accuracy of 100% to both training and testing"
   ]
  },
  {
   "cell_type": "code",
   "execution_count": 185,
   "metadata": {},
   "outputs": [
    {
     "name": "stdout",
     "output_type": "stream",
     "text": [
      "Training Accuracy: 100.00, Testing Accuracy: 93.33,Training time= 0.0044793999986723065\n"
     ]
    }
   ],
   "source": [
    "#applying dst\n",
    "from sklearn.tree import DecisionTreeClassifier\n",
    "\n",
    "time_start=time.perf_counter()\n",
    "classifier = DecisionTreeClassifier(criterion=\"entropy\")\n",
    "classifier.fit(X_train_all, y_train_all)\n",
    "time_end=time.perf_counter()\n",
    "\n",
    "train_accuracy = classifier.score(X_train_all, y_train_all)\n",
    "test_accuracy = classifier.score(X_test_all, y_test_all)\n",
    "print(f\"Training Accuracy: {train_accuracy*100:.2f}, Testing Accuracy: {test_accuracy*100:.2f},Training time= {t_diff}\")\n",
    "#dst reached training accuracy of 100%, but testing accuracy of 93.33"
   ]
  },
  {
   "cell_type": "code",
   "execution_count": null,
   "metadata": {},
   "outputs": [],
   "source": [
    "#naive fits very well when we used the whole features of the data sets and reached high testing accuracy which is more than 90%, so \n",
    "#it is the best classifier to be used in this case"
   ]
  }
 ],
 "metadata": {
  "kernelspec": {
   "display_name": "Python 3",
   "language": "python",
   "name": "python3"
  },
  "language_info": {
   "codemirror_mode": {
    "name": "ipython",
    "version": 3
   },
   "file_extension": ".py",
   "mimetype": "text/x-python",
   "name": "python",
   "nbconvert_exporter": "python",
   "pygments_lexer": "ipython3",
   "version": "3.7.1"
  }
 },
 "nbformat": 4,
 "nbformat_minor": 2
}
